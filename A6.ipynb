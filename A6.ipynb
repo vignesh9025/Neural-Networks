{
 "cells": [
  {
   "cell_type": "markdown",
   "metadata": {},
   "source": [
    "# Assignment 6: Neural Networks"
   ]
  },
  {
   "cell_type": "markdown",
   "metadata": {},
   "source": [
    "Vignesh Madharapakkam Pagadala"
   ]
  },
  {
   "cell_type": "code",
   "execution_count": 52,
   "metadata": {
    "collapsed": true
   },
   "outputs": [],
   "source": [
    "# Neural networks\n",
    "import neuralnetworks as nn\n",
    "import matplotlib.pyplot as plt\n",
    "import numpy as np\n",
    "import scaledconjugategradient as scg\n",
    "import mlutils as ml\n",
    "import time\n",
    "import pprint\n",
    "from numpy import genfromtxt\n",
    "import pandas as pd\n",
    "\n",
    "def trainNNs(X, T, trainFraction, hiddenLayerStructures, numberRepetitions, numberIterations, classify = False):\n",
    "\t# Master result list - we shall keep appending to this.\n",
    "\tresult = []\n",
    "\t# Iterate through each network structure provided.\n",
    "\tfor net in hiddenLayerStructures:\n",
    "\t\t# To store performances of each training run for a network structure.\n",
    "\t\ttrainPerformance = []\n",
    "\t\ttestPerformance = []\n",
    "\n",
    "\t\t# To measure time elapsed.\n",
    "\t\tstart_time = time.time()\n",
    "\t\t# Iterate for number of repetitions to train neural network.\n",
    "\t\tfor i in range(numberRepetitions):\n",
    "\t\t\t# Now, we have to partition X and T, into training and testing data.\n",
    "\t\t\tXtrain,Ttrain,Xtest,Ttest = ml.partition(X, T, (trainFraction, 1 - trainFraction), classification = classify)\n",
    "\n",
    "\t\t\t# Create a neural network for this structure.\n",
    "\t\t\tnnet = nn.NeuralNetwork(Xtrain.shape[1],net,Ttrain.shape[1])\n",
    "\t\t\t# Commence training\n",
    "\t\t\tnnet.train(Xtrain, Ttrain, nIterations = numberIterations)\n",
    "\t\t\t# Use the trained network to produce outputs (for both training and testing input datasets).\n",
    "\t\t\ttrainOut = nnet.use(Xtrain)\n",
    "\t\t\ttestOut = nnet.use(Xtest)\n",
    "\t\t\ttrainRSME = 0\n",
    "\t\t\ttestRSME = 0\n",
    "\t\t\t# If classifying, calculate samples classified incorrectly (for both training and testing datasets).\n",
    "\t\t\tif classify == True:\n",
    "\t\t\t\t# Calculate number of samples classified incorrectly.\n",
    "\t\t\t\t# For training set.\n",
    "\t\t\t\ttrainRSME = (len(trainOut) - np.sum(trainOut == Ttrain)) / len(trainOut)\n",
    "\t\t\t\t# For test set.\n",
    "\t\t\t\ttestRSME = (len(testOut) - np.sum(testOut == Ttest)) / len(testOut)\n",
    "\n",
    "\t\t\telse:\n",
    "\t\t\t\t# Calculate error in training set.\n",
    "\t\t\t\ttrainError = trainOut - Ttrain\n",
    "\t\t\t\ttrainRMSE = np.sqrt(np.mean((trainError**2)))\n",
    "\t\t\t\t# Calculate error in testing set\n",
    "\t\t\t\ttestError = testOut - Ttest\n",
    "\t\t\t\ttestRMSE = np.sqrt(np.mean((testError**2)))\n",
    "\n",
    "\t\t\t# Append train and test performances to list.\n",
    "\t\t\ttrainPerformance.append(trainRMSE)\n",
    "\t\t\ttestPerformance.append(testRMSE)\n",
    "\t\tend_time = time.time()\n",
    "\t\telapsed = end_time - start_time\n",
    "\t\t# Now, we append everything to the master 'result' list.\n",
    "\t\tresult.append([net, trainPerformance, testPerformance, elapsed])\n",
    "\n",
    "\treturn result\n",
    "\n",
    "def summarize(results):\n",
    "\tnewres = []\n",
    "\tfor i in results:\n",
    "\t\tnet = i[0]\n",
    "\t\ttrainPerformance = i[1]\n",
    "\t\ttestPerformance = i[2]\n",
    "\t\telapsed = i[3]\n",
    "\t\ttrainMean = sum(trainPerformance) / len(trainPerformance)\n",
    "\t\ttestMean = sum(testPerformance) / len(trainPerformance)\n",
    "\t\tnewres.append([net, trainMean, testMean, elapsed])\n",
    "\treturn newres\n",
    "\n",
    "def bestNetwork(summary):\n",
    "\tbestVal = summary[0]\n",
    "\tfor el in summary:\n",
    "\t\tif el[2] < bestVal[2]:\n",
    "\t\t\tbestVal = el\n",
    "\treturn bestVal"
   ]
  },
  {
   "cell_type": "markdown",
   "metadata": {},
   "source": [
    "## Examples\n"
   ]
  },
  {
   "cell_type": "code",
   "execution_count": 2,
   "metadata": {
    "collapsed": true
   },
   "outputs": [],
   "source": [
    "X = np.arange(10).reshape((-1,1))\n",
    "T = X + 1 + np.random.uniform(-1, 1, ((10,1)))"
   ]
  },
  {
   "cell_type": "code",
   "execution_count": 3,
   "metadata": {
    "collapsed": true
   },
   "outputs": [],
   "source": [
    "import matplotlib.pyplot as plt\n",
    "%matplotlib inline"
   ]
  },
  {
   "cell_type": "code",
   "execution_count": 4,
   "metadata": {},
   "outputs": [
    {
     "data": {
      "image/png": "[encoded data removed]",
      "text/plain": [
       "<matplotlib.figure.Figure at 0x5709130>"
      ]
     },
     "metadata": {},
     "output_type": "display_data"
    }
   ],
   "source": [
    "plt.plot(X, T, 'o-');"
   ]
  },
  {
   "cell_type": "code",
   "execution_count": 5,
   "metadata": {
    "scrolled": false
   },
   "outputs": [
    {
     "data": {
      "text/plain": [
       "array([ 0.70710678,  0.40536577,  0.21523598,  0.14133484,  0.11538668,\n",
       "        0.09189181,  0.08295157,  0.07936842,  0.07791015,  0.07487245,\n",
       "        0.07200469,  0.07146735,  0.07070515,  0.07013958,  0.06999591,\n",
       "        0.06978245,  0.0690478 ,  0.06806027,  0.0676652 ,  0.06740885,\n",
       "        0.0670682 ,  0.06678974,  0.06677703,  0.06629686,  0.06623396,\n",
       "        0.066169  ,  0.06602729,  0.0657997 ,  0.06578852,  0.06578351,\n",
       "        0.06570652,  0.06568527,  0.06568527,  0.06568527,  0.06568527,\n",
       "        0.06568527,  0.06568527,  0.06568527,  0.06568527,  0.06568527,\n",
       "        0.06568527,  0.06568527,  0.06568527,  0.06568527,  0.06568527,\n",
       "        0.06568527,  0.06568527,  0.06568527,  0.06568527,  0.06568527,\n",
       "        0.06568527,  0.06568527,  0.06568527,  0.06490479,  0.06393036,\n",
       "        0.06358026,  0.0634574 ,  0.0634275 ,  0.06298268,  0.06254124,\n",
       "        0.06229649,  0.06215892,  0.0620826 ,  0.06206153,  0.06204373,\n",
       "        0.06191908,  0.06142396,  0.06142274,  0.06105205,  0.06073435,\n",
       "        0.06036452,  0.06035059,  0.05987389,  0.05977007,  0.05737059,\n",
       "        0.05703518,  0.05689174,  0.05628183,  0.05602262,  0.05590186,\n",
       "        0.05581705,  0.05501599,  0.05498113,  0.05485596,  0.05450636,\n",
       "        0.05421919,  0.05413767,  0.05359808,  0.05336837,  0.05332033,\n",
       "        0.05156918,  0.05156911,  0.05111336,  0.05100731,  0.05087717,\n",
       "        0.05055741,  0.04993023,  0.0496736 ,  0.04953005,  0.04946082,\n",
       "        0.04940345])"
      ]
     },
     "execution_count": 5,
     "metadata": {},
     "output_type": "execute_result"
    }
   ],
   "source": [
    "nnet = nn.NeuralNetwork(X.shape[1], 2, T.shape[1])\n",
    "nnet.train(X, T, 100)\n",
    "nnet.getErrorTrace()"
   ]
  },
  {
   "cell_type": "code",
   "execution_count": 6,
   "metadata": {
    "scrolled": false
   },
   "outputs": [
    {
     "data": {
      "text/plain": [
       "array([ 0.70710678,  0.43966673,  0.43966673,  0.43966673,  0.23992882,\n",
       "        0.13635833,  0.09096788,  0.09023429,  0.08467754,  0.07519409,\n",
       "        0.07378244,  0.07318642,  0.07310171,  0.07295591,  0.07289168,\n",
       "        0.07267777,  0.07223946,  0.07204272,  0.07172354,  0.07168917,\n",
       "        0.07149746,  0.07149746,  0.07149746,  0.07149746,  0.07149746,\n",
       "        0.07149746,  0.07149746,  0.07149746,  0.07132504,  0.07036829,\n",
       "        0.06972102,  0.06876788,  0.0679309 ,  0.06714482,  0.06714058,\n",
       "        0.06712173,  0.06711115,  0.06709111,  0.06706302,  0.06705373,\n",
       "        0.06703309,  0.06702749,  0.06692814,  0.0669008 ,  0.06671738,\n",
       "        0.06670466,  0.06658654,  0.06651776,  0.0658077 ,  0.06571455,\n",
       "        0.06553309,  0.06552721,  0.06550007,  0.06546558,  0.06529163,\n",
       "        0.0652895 ,  0.06528205,  0.06527733,  0.06527565,  0.06527042,\n",
       "        0.06526975,  0.06526628,  0.06526443,  0.06526314,  0.06525958,\n",
       "        0.06525898,  0.06525551,  0.06525314,  0.0652496 ,  0.06524216,\n",
       "        0.06523951,  0.0652291 ,  0.06522381,  0.06520304,  0.06519231,\n",
       "        0.06517735,  0.06516287,  0.06515032,  0.06513008,  0.06511064,\n",
       "        0.06503371,  0.06501719,  0.06453933,  0.06452158,  0.06449721,\n",
       "        0.06447063,  0.06445854,  0.06444915,  0.06432861,  0.06432736,\n",
       "        0.06432736,  0.06432736,  0.06432736,  0.06432736,  0.06432736,\n",
       "        0.06432736,  0.06432736,  0.06432736,  0.06432736,  0.06432736,\n",
       "        0.06432736])"
      ]
     },
     "execution_count": 6,
     "metadata": {},
     "output_type": "execute_result"
    }
   ],
   "source": [
    "nnet = nn.NeuralNetwork(X.shape[1], [5, 5, 5], T.shape[1])\n",
    "nnet.train(X, T, 100)\n",
    "nnet.getErrorTrace()"
   ]
  },
  {
   "cell_type": "code",
   "execution_count": 7,
   "metadata": {},
   "outputs": [
    {
     "data": {
      "text/plain": [
       "[[2,\n",
       "  [0.25200717810662471,\n",
       "   0.26381872224181679,\n",
       "   0.22789929115096724,\n",
       "   0.32404511703882638,\n",
       "   0.12851658059089391],\n",
       "  [0.43168139506892972,\n",
       "   0.50675036105631566,\n",
       "   0.49074001261956968,\n",
       "   0.23147285280594387,\n",
       "   0.80506380443209724],\n",
       "  0.3443930149078369],\n",
       " [10,\n",
       "  [0.16328190970717307,\n",
       "   0.15632100566430374,\n",
       "   0.16130310678450757,\n",
       "   0.11821092587316939,\n",
       "   0.18778121635048356],\n",
       "  [0.67132116554539523,\n",
       "   0.50495205681314881,\n",
       "   0.36425934896790996,\n",
       "   0.70630535904420089,\n",
       "   0.31408528255775614],\n",
       "  0.40033388137817383],\n",
       " [[10, 10],\n",
       "  [0.16857388328388481,\n",
       "   0.18980219825713068,\n",
       "   0.15985736756145533,\n",
       "   0.18852395612125877,\n",
       "   0.18154597606870243],\n",
       "  [0.45883990963770238,\n",
       "   0.28341646348060284,\n",
       "   0.36070736245698604,\n",
       "   0.38012052327370893,\n",
       "   0.528291743217293],\n",
       "  0.5563693046569824]]"
      ]
     },
     "execution_count": 7,
     "metadata": {},
     "output_type": "execute_result"
    }
   ],
   "source": [
    "results = trainNNs(X, T, 0.8, [2, 10, [10, 10]], 5, 100, classify=False)\n",
    "results"
   ]
  },
  {
   "cell_type": "code",
   "execution_count": 12,
   "metadata": {
    "collapsed": true,
    "scrolled": true
   },
   "outputs": [],
   "source": [
    "results = trainNNs(X, T, 0.8, [0, 1, 2, 10, [10, 10], [5, 5, 5, 5], [2]*5], 50, 400, classify=False)"
   ]
  },
  {
   "cell_type": "code",
   "execution_count": 13,
   "metadata": {},
   "outputs": [
    {
     "data": {
      "text/plain": [
       "[[0, 0.31319143622607037, 0.37816379249766224, 0.011005401611328125],\n",
       " [1, 0.24898574232802587, 0.62368816540935179, 0.2526829242706299],\n",
       " [2, 0.23153789543954345, 0.54011580791093072, 0.33172059059143066],\n",
       " [10, 0.17043291222335927, 0.47478038384946564, 0.364072322845459],\n",
       " [[10, 10], 0.18300704300485099, 0.42940242031800657, 0.5174143314361572],\n",
       " [[5, 5, 5, 5], 0.21059472187875086, 0.61724393238622177, 0.7283289432525635],\n",
       " [[2, 2, 2, 2, 2],\n",
       "  0.26987479762869082,\n",
       "  0.51589660009202842,\n",
       "  0.759429931640625]]"
      ]
     },
     "execution_count": 13,
     "metadata": {},
     "output_type": "execute_result"
    }
   ],
   "source": [
    "summarize(results)"
   ]
  },
  {
   "cell_type": "code",
   "execution_count": 14,
   "metadata": {},
   "outputs": [
    {
     "name": "stdout",
     "output_type": "stream",
     "text": [
      "[0, 0.31604563150169657, 0.37370697740756226, 0.07756161689758301]\n",
      "Hidden Layers 0 Average RMSE Training 0.32 Testing 0.37 Took 0.08 seconds\n"
     ]
    }
   ],
   "source": [
    "best = bestNetwork(summarize(results))\n",
    "print(best)\n",
    "print('Hidden Layers {} Average RMSE Training {:.2f} Testing {:.2f} Took {:.2f} seconds'.format(*best))"
   ]
  },
  {
   "cell_type": "markdown",
   "metadata": {},
   "source": [
    "## Data for Regression Experiment"
   ]
  },
  {
   "cell_type": "code",
   "execution_count": 20,
   "metadata": {},
   "outputs": [],
   "source": [
    "# Load data from CSV file.\n",
    "df=pd.read_csv('energydata_complete.csv', sep=',',header=None)\n",
    "# Delete the first column (date time) and last two columns.\n",
    "df = df.drop(df.columns[[0, -2, -1]], axis=1)\n",
    "# Get names of input data. Get it in a list.\n",
    "Xnames = []\n",
    "Xn = df.iloc[0, 2:]\n",
    "for i in Xn:\n",
    "    Xnames.append(i)\n",
    "# Get names of target data into a list.\n",
    "Tnames = []\n",
    "Tn = df.iloc[0, :2]\n",
    "for i in Tn:\n",
    "    Tnames.append(i)\n",
    "\n",
    "# Get target data.\n",
    "Td = df.iloc[1:, [0,1]]\n",
    "Td = Td.as_matrix()\n",
    "Tenergy = Td.astype(float)\n",
    "\n",
    "# Get input data.\n",
    "Xd = df.iloc[1:, 2:]\n",
    "Xd = Xd.as_matrix()\n",
    "Xenergy = Xd.astype(float)"
   ]
  },
  {
   "cell_type": "code",
   "execution_count": 21,
   "metadata": {},
   "outputs": [
    {
     "name": "stdout",
     "output_type": "stream",
     "text": [
      "SCG: Iteration 1 ObjectiveF=0.48964 Scale=1.000e-06 Time=0.00674 s/iter\n",
      "SCG: Iteration 2 ObjectiveF=0.48964 Scale=5.000e-07 Time=0.00838 s/iter\n",
      "SCG: Iteration 3 ObjectiveF=0.48964 Scale=2.000e-06 Time=0.00245 s/iter\n",
      "SCG: Iteration 4 ObjectiveF=0.48964 Scale=8.000e-06 Time=0.00245 s/iter\n",
      "SCG: Iteration 5 ObjectiveF=0.48964 Scale=3.200e-05 Time=0.00255 s/iter\n",
      "SCG: Iteration 6 ObjectiveF=0.48964 Scale=1.280e-04 Time=0.00245 s/iter\n",
      "SCG: Iteration 7 ObjectiveF=0.48964 Scale=5.120e-04 Time=0.00250 s/iter\n",
      "SCG: Iteration 8 ObjectiveF=0.48964 Scale=2.048e-03 Time=0.00251 s/iter\n",
      "SCG: Iteration 9 ObjectiveF=0.48964 Scale=8.192e-03 Time=0.00276 s/iter\n",
      "SCG: Iteration 10 ObjectiveF=0.48964 Scale=3.277e-02 Time=0.00245 s/iter\n",
      "[[5, 72.99184559738579, 68.803739175608484, 0.5659322738647461]]\n"
     ]
    }
   ],
   "source": [
    "results = trainNNs(Xenergy, Tenergy, 0.8, [5], 1, 10)\n",
    "print(summarize(results))"
   ]
  },
  {
   "cell_type": "code",
   "execution_count": 22,
   "metadata": {},
   "outputs": [
    {
     "data": {
      "text/plain": [
       "['Appliances', 'lights']"
      ]
     },
     "execution_count": 22,
     "metadata": {},
     "output_type": "execute_result"
    }
   ],
   "source": [
    "Tnames"
   ]
  },
  {
   "cell_type": "code",
   "execution_count": 23,
   "metadata": {},
   "outputs": [
    {
     "data": {
      "text/plain": [
       "['T1',\n",
       " 'RH_1',\n",
       " 'T2',\n",
       " 'RH_2',\n",
       " 'T3',\n",
       " 'RH_3',\n",
       " 'T4',\n",
       " 'RH_4',\n",
       " 'T5',\n",
       " 'RH_5',\n",
       " 'T6',\n",
       " 'RH_6',\n",
       " 'T7',\n",
       " 'RH_7',\n",
       " 'T8',\n",
       " 'RH_8',\n",
       " 'T9',\n",
       " 'RH_9',\n",
       " 'T_out',\n",
       " 'Press_mm_hg',\n",
       " 'RH_out',\n",
       " 'Windspeed',\n",
       " 'Visibility',\n",
       " 'Tdewpoint']"
      ]
     },
     "execution_count": 23,
     "metadata": {},
     "output_type": "execute_result"
    }
   ],
   "source": [
    "Xnames"
   ]
  },
  {
   "cell_type": "code",
   "execution_count": 24,
   "metadata": {},
   "outputs": [
    {
     "data": {
      "text/plain": [
       "((19735, 24), (19735, 2))"
      ]
     },
     "execution_count": 24,
     "metadata": {},
     "output_type": "execute_result"
    }
   ],
   "source": [
    "Xenergy.shape, Tenergy.shape"
   ]
  },
  {
   "cell_type": "markdown",
   "metadata": {},
   "source": [
    "Train several neural networks on all of this data for 100 iterations.  Plot the error trace (nnet.getErrorTrace()) to help you decide now many iterations might be needed.  100 may not be enough.  If for your larger networks the error is still decreasing after 100 iterations you should train all nets for more than 100 iterations.\n",
    "\n",
    "Now use your `trainNNs`, `summarize`, and `bestNetwork` functions on this data to investigate various network sizes."
   ]
  },
  {
   "cell_type": "code",
   "execution_count": 18,
   "metadata": {
    "collapsed": true
   },
   "outputs": [],
   "source": [
    "results = trainNNs(Xenergy, Tenergy, 0.8, [0, 5, [5, 5], [10, 10]], 10, 100)"
   ]
  },
  {
   "cell_type": "code",
   "execution_count": 19,
   "metadata": {},
   "outputs": [
    {
     "data": {
      "text/plain": [
       "[[0, 67.046960179422285, 67.644136371408763, 0.998682975769043],\n",
       " [5, 65.301632625880842, 66.328853488839485, 13.130361795425415],\n",
       " [[5, 5], 64.277382425810785, 66.416365860755761, 19.365249395370483],\n",
       " [[10, 10], 62.741905999268582, 64.979550044221469, 33.62221097946167]]"
      ]
     },
     "execution_count": 19,
     "metadata": {},
     "output_type": "execute_result"
    }
   ],
   "source": [
    "summarize(results)"
   ]
  },
  {
   "cell_type": "code",
   "execution_count": 25,
   "metadata": {
    "scrolled": true
   },
   "outputs": [
    {
     "data": {
      "text/plain": [
       "[5, 72.99184559738579, 68.803739175608484, 0.5659322738647461]"
      ]
     },
     "execution_count": 25,
     "metadata": {},
     "output_type": "execute_result"
    }
   ],
   "source": [
    "bestNetwork(summarize(results))"
   ]
  },
  {
   "cell_type": "markdown",
   "metadata": {},
   "source": [
    "## Training of several nets and plotting err trace"
   ]
  },
  {
   "cell_type": "markdown",
   "metadata": {},
   "source": [
    "### Network 1"
   ]
  },
  {
   "cell_type": "code",
   "execution_count": 36,
   "metadata": {},
   "outputs": [],
   "source": [
    "net1 = nn.NeuralNetwork(Xenergy.shape[1],[5],Tenergy.shape[1])\n",
    "net1.train(Xenergy, Tenergy, 100)\n",
    "err = net1.getErrorTrace()"
   ]
  },
  {
   "cell_type": "code",
   "execution_count": 37,
   "metadata": {
    "scrolled": true
   },
   "outputs": [
    {
     "data": {
      "image/png": "[encoded data removed]",
      "text/plain": [
       "<matplotlib.figure.Figure at 0x84abad0>"
      ]
     },
     "metadata": {},
     "output_type": "display_data"
    }
   ],
   "source": [
    "fig = plt.figure()\n",
    "ax = fig.add_subplot(111)\n",
    "ax.plot(err, linewidth = 1, color = 'g')\n",
    "ax.set(title = 'Error Trace')\n",
    "plt.show()"
   ]
  },
  {
   "cell_type": "markdown",
   "metadata": {},
   "source": [
    "### Network 2"
   ]
  },
  {
   "cell_type": "code",
   "execution_count": 38,
   "metadata": {
    "collapsed": true
   },
   "outputs": [],
   "source": [
    "net2 = nn.NeuralNetwork(Xenergy.shape[1],[5, 5],Tenergy.shape[1])\n",
    "net2.train(Xenergy, Tenergy, 100)\n",
    "err2 = net2.getErrorTrace()"
   ]
  },
  {
   "cell_type": "code",
   "execution_count": 44,
   "metadata": {},
   "outputs": [
    {
     "data": {
      "image/png": "[encoded data removed]",
      "text/plain": [
       "<matplotlib.figure.Figure at 0x83cf130>"
      ]
     },
     "metadata": {},
     "output_type": "display_data"
    }
   ],
   "source": [
    "fig = plt.figure()\n",
    "ax = fig.add_subplot(111)\n",
    "ax.plot(err2, linewidth = 1, color = 'g')\n",
    "ax.set(title = 'Error Trace')\n",
    "plt.show()"
   ]
  },
  {
   "cell_type": "markdown",
   "metadata": {},
   "source": [
    "Seems, like the error is still decreasing. Let's increase the number of iterations."
   ]
  },
  {
   "cell_type": "code",
   "execution_count": 49,
   "metadata": {
    "collapsed": true
   },
   "outputs": [],
   "source": [
    "net21 = nn.NeuralNetwork(Xenergy.shape[1],[5, 5],Tenergy.shape[1])\n",
    "net21.train(Xenergy, Tenergy, 500)\n",
    "err21 = net21.getErrorTrace()"
   ]
  },
  {
   "cell_type": "code",
   "execution_count": 53,
   "metadata": {},
   "outputs": [
    {
     "data": {
      "image/png": "[encoded data removed]",
      "text/plain": [
       "<matplotlib.figure.Figure at 0x8a737f0>"
      ]
     },
     "metadata": {},
     "output_type": "display_data"
    }
   ],
   "source": [
    "fig = plt.figure()\n",
    "ax = fig.add_subplot(111)\n",
    "ax.plot(err21, linewidth = 1, color = 'g')\n",
    "ax.set(title = 'Error Trace')\n",
    "plt.show()"
   ]
  },
  {
   "cell_type": "markdown",
   "metadata": {},
   "source": [
    "### Network 3"
   ]
  },
  {
   "cell_type": "code",
   "execution_count": 39,
   "metadata": {
    "collapsed": true
   },
   "outputs": [],
   "source": [
    "net3 = nn.NeuralNetwork(Xenergy.shape[1],[3,2,3],Tenergy.shape[1])\n",
    "net3.train(Xenergy, Tenergy, 100)\n",
    "err3 = net3.getErrorTrace()"
   ]
  },
  {
   "cell_type": "code",
   "execution_count": 45,
   "metadata": {},
   "outputs": [
    {
     "data": {
      "image/png": "[encoded data removed]",
      "text/plain": [
       "<matplotlib.figure.Figure at 0x84173b0>"
      ]
     },
     "metadata": {},
     "output_type": "display_data"
    }
   ],
   "source": [
    "fig = plt.figure()\n",
    "ax = fig.add_subplot(111)\n",
    "ax.plot(err3, linewidth = 1, color = 'g')\n",
    "ax.set(title = 'Error Trace')\n",
    "plt.show()"
   ]
  },
  {
   "cell_type": "markdown",
   "metadata": {},
   "source": [
    "### Network 4"
   ]
  },
  {
   "cell_type": "code",
   "execution_count": 42,
   "metadata": {
    "collapsed": true
   },
   "outputs": [],
   "source": [
    "net4 = nn.NeuralNetwork(Xenergy.shape[1],[10,10],Tenergy.shape[1])\n",
    "net4.train(Xenergy, Tenergy, 100)\n",
    "err4 = net4.getErrorTrace()"
   ]
  },
  {
   "cell_type": "code",
   "execution_count": 46,
   "metadata": {},
   "outputs": [
    {
     "data": {
      "image/png": "[encoded data removed]",
      "text/plain": [
       "<matplotlib.figure.Figure at 0x847b150>"
      ]
     },
     "metadata": {},
     "output_type": "display_data"
    }
   ],
   "source": [
    "fig = plt.figure()\n",
    "ax = fig.add_subplot(111)\n",
    "ax.plot(err4, linewidth = 1, color = 'g')\n",
    "ax.set(title = 'Error Trace')\n",
    "plt.show()"
   ]
  },
  {
   "cell_type": "markdown",
   "metadata": {},
   "source": [
    "Quite evident that the error can be decreased further. More iterations!"
   ]
  },
  {
   "cell_type": "code",
   "execution_count": 50,
   "metadata": {
    "collapsed": true
   },
   "outputs": [],
   "source": [
    "net41 = nn.NeuralNetwork(Xenergy.shape[1],[10,10],Tenergy.shape[1])\n",
    "net41.train(Xenergy, Tenergy, 500)\n",
    "err41 = net41.getErrorTrace()"
   ]
  },
  {
   "cell_type": "code",
   "execution_count": 54,
   "metadata": {},
   "outputs": [
    {
     "data": {
      "image/png": "[encoded data removed]",
      "text/plain": [
       "<matplotlib.figure.Figure at 0x8ac4410>"
      ]
     },
     "metadata": {},
     "output_type": "display_data"
    }
   ],
   "source": [
    "fig = plt.figure()\n",
    "ax = fig.add_subplot(111)\n",
    "ax.plot(err41, linewidth = 1, color = 'g')\n",
    "ax.set(title = 'Error Trace')\n",
    "plt.show()"
   ]
  },
  {
   "cell_type": "markdown",
   "metadata": {},
   "source": [
    "### Network 5"
   ]
  },
  {
   "cell_type": "code",
   "execution_count": 47,
   "metadata": {
    "collapsed": true
   },
   "outputs": [],
   "source": [
    "net5 = nn.NeuralNetwork(Xenergy.shape[1],[0],Tenergy.shape[1])\n",
    "net5.train(Xenergy, Tenergy, 100)\n",
    "err5 = net5.getErrorTrace()"
   ]
  },
  {
   "cell_type": "code",
   "execution_count": 48,
   "metadata": {
    "scrolled": true
   },
   "outputs": [
    {
     "data": {
      "image/png": "[encoded data removed]",
      "text/plain": [
       "<matplotlib.figure.Figure at 0x8a735f0>"
      ]
     },
     "metadata": {},
     "output_type": "display_data"
    }
   ],
   "source": [
    "fig = plt.figure()\n",
    "ax = fig.add_subplot(111)\n",
    "ax.plot(err5, linewidth = 1, color = 'g')\n",
    "ax.set(title = 'Error Trace')\n",
    "plt.show()"
   ]
  },
  {
   "cell_type": "markdown",
   "metadata": {},
   "source": [
    "## Now let's try 10 different hidden layer structures."
   ]
  },
  {
   "cell_type": "code",
   "execution_count": 55,
   "metadata": {
    "collapsed": true
   },
   "outputs": [],
   "source": [
    "res = trainNNs(Xenergy, Tenergy, 0.8, [0, 1, 3, [3,4], 2, [1,2,1], [5,5], 5, [10, 10], [2,2]], 5, 100)"
   ]
  },
  {
   "cell_type": "code",
   "execution_count": 57,
   "metadata": {},
   "outputs": [
    {
     "data": {
      "text/plain": [
       "[[0, 67.482693586391889, 65.896217129081293, 3.8897058963775635],\n",
       " [1, 70.108307451986818, 71.933279022735007, 23.86779260635376],\n",
       " [3, 65.850456075111396, 66.721363148812927, 40.16896986961365],\n",
       " [[3, 4], 65.842057975193086, 65.116333782971651, 63.80573081970215],\n",
       " [2, 66.27739793854262, 66.733975354089154, 33.07516002655029],\n",
       " [[1, 2, 1], 69.736915881322474, 67.559449069152947, 38.11185550689697],\n",
       " [[5, 5], 64.746682814536683, 65.185772632971009, 92.60521125793457],\n",
       " [5, 65.599829787736198, 65.57678991784347, 57.98296308517456],\n",
       " [[10, 10], 63.032106718659819, 65.483787175952884, 163.1770739555359],\n",
       " [[2, 2], 66.378964681925623, 66.283873384587679, 44.56074285507202]]"
      ]
     },
     "execution_count": 57,
     "metadata": {},
     "output_type": "execute_result"
    }
   ],
   "source": [
    "summ = summarize(res)\n",
    "summ"
   ]
  },
  {
   "cell_type": "code",
   "execution_count": 58,
   "metadata": {},
   "outputs": [
    {
     "data": {
      "text/plain": [
       "[[3, 4], 65.842057975193086, 65.116333782971651, 63.80573081970215]"
      ]
     },
     "execution_count": 58,
     "metadata": {},
     "output_type": "execute_result"
    }
   ],
   "source": [
    "best = bestNetwork(summ)\n",
    "best"
   ]
  },
  {
   "cell_type": "markdown",
   "metadata": {},
   "source": [
    "Test at least 10 different hidden layer structures.  Larger numbers of layers and units may do the best on training data, but not on testing data. Why?\n",
    "\n",
    "Now train another network with your best hidden layer structure on 0.8 of the data and use the trained network on the testing data (the remaining 0.2 of the date).  As before use `ml.partition` to produce the training and testing sets.\n",
    "\n",
    "For the testing data, plot the predicted and actual `Appliances` energy use, and the predicted and actual `lights` energy use, in two separate plots.  Discuss what you see."
   ]
  },
  {
   "cell_type": "code",
   "execution_count": 59,
   "metadata": {
    "collapsed": true
   },
   "outputs": [],
   "source": [
    "XEnergyTrain,TEnergyTrain,XEnergyTest,TEnergyTest = ml.partition(Xenergy, Tenergy, (0.8, 0.2), classification = False)"
   ]
  },
  {
   "cell_type": "code",
   "execution_count": 61,
   "metadata": {},
   "outputs": [],
   "source": [
    "nnetn = nn.NeuralNetwork(XEnergyTrain.shape[1],best[0],TEnergyTrain.shape[1])"
   ]
  },
  {
   "cell_type": "code",
   "execution_count": 62,
   "metadata": {},
   "outputs": [
    {
     "data": {
      "text/plain": [
       "NeuralNetwork(24, [3, 4], 2)\n",
       "   Network was trained for 101 iterations. Final error is 0.61675256646235."
      ]
     },
     "execution_count": 62,
     "metadata": {},
     "output_type": "execute_result"
    }
   ],
   "source": [
    "nnetn.train(XEnergyTrain, TEnergyTrain, 100)"
   ]
  },
  {
   "cell_type": "code",
   "execution_count": null,
   "metadata": {
    "collapsed": true
   },
   "outputs": [],
   "source": [
    "XEnergyTestOut = nnetn"
   ]
  },
  {
   "cell_type": "code",
   "execution_count": null,
   "metadata": {
    "collapsed": true
   },
   "outputs": [],
   "source": []
  },
  {
   "cell_type": "code",
   "execution_count": null,
   "metadata": {
    "collapsed": true
   },
   "outputs": [],
   "source": []
  },
  {
   "cell_type": "markdown",
   "metadata": {},
   "source": [
    "## Data for Classification Experiment\n",
    "\n",
    "From the UCI Machine Learning Repository, download the [Anuran Calls (MFCCs)](http://archive.ics.uci.edu/ml/datasets/Anuran+Calls+%28MFCCs%29) data.  You can do this by visiting the Data Folder for this data set, or just do this:\n",
    "\n",
    "     !wget 'http://archive.ics.uci.edu/ml/machine-learning-databases/00406/Anuran Calls (MFCCs).zip'\n",
    "     !unzip Anuran*zip\n",
    "     \n",
    "Read the data in the file `Frogs_MFCCs.csv` into python.  This will be a little tricky. Each line of the file is a sample of audio features plus three columns that label the sample by family, genus, and species. We will try to predict the species.  The tricky part is that the species is given as text.  We need to convert this to a target class, as an integer. The `numpy` function `unique` will come in handy here."
   ]
  },
  {
   "cell_type": "code",
   "execution_count": 21,
   "metadata": {},
   "outputs": [
    {
     "data": {
      "text/plain": [
       "((7195, 21), (7195, 1))"
      ]
     },
     "execution_count": 21,
     "metadata": {},
     "output_type": "execute_result"
    }
   ],
   "source": [
    "Xanuran.shape, Tanuran.shape"
   ]
  },
  {
   "cell_type": "code",
   "execution_count": 22,
   "metadata": {},
   "outputs": [
    {
     "data": {
      "text/plain": [
       "array([[ 0.1529363 , -0.1055859 ,  0.20072191,  0.31720106,  0.26076385,\n",
       "         0.10094464, -0.1500626 , -0.17112763,  0.12467644,  0.18865415,\n",
       "        -0.07562172, -0.15643593,  0.08224512,  0.13575204, -0.02401665,\n",
       "        -0.10835111, -0.07762252, -0.0095678 ,  0.05768398,  0.11868014,\n",
       "         0.01403845],\n",
       "       [ 0.17153426, -0.09897474,  0.26842522,  0.33867186,  0.2683531 ,\n",
       "         0.06083509, -0.22247464, -0.20769267,  0.17088287,  0.27095828,\n",
       "        -0.09500394, -0.25434147,  0.02278623,  0.1633201 ,  0.01202228,\n",
       "        -0.09097401, -0.05650952, -0.03530336,  0.02013996,  0.08226299,\n",
       "         0.02905574]])"
      ]
     },
     "execution_count": 22,
     "metadata": {},
     "output_type": "execute_result"
    }
   ],
   "source": [
    "Xanuran[:2,:]"
   ]
  },
  {
   "cell_type": "code",
   "execution_count": 23,
   "metadata": {},
   "outputs": [
    {
     "data": {
      "text/plain": [
       "array([[0],\n",
       "       [0]])"
      ]
     },
     "execution_count": 23,
     "metadata": {},
     "output_type": "execute_result"
    }
   ],
   "source": [
    "Tanuran[:2]"
   ]
  },
  {
   "cell_type": "code",
   "execution_count": 24,
   "metadata": {},
   "outputs": [
    {
     "name": "stdout",
     "output_type": "stream",
     "text": [
      "672 samples in class 0\n",
      "3478 samples in class 1\n",
      "542 samples in class 2\n",
      "310 samples in class 3\n",
      "472 samples in class 4\n",
      "1121 samples in class 5\n",
      "270 samples in class 6\n",
      "114 samples in class 7\n",
      "68 samples in class 8\n",
      "148 samples in class 9\n"
     ]
    }
   ],
   "source": [
    "for i in range(10):\n",
    "    print('{} samples in class {}'.format(np.sum(Tanuran==i), i))"
   ]
  },
  {
   "cell_type": "code",
   "execution_count": 25,
   "metadata": {
    "collapsed": true
   },
   "outputs": [],
   "source": [
    "results = trainNNs(Xanuran, Tanuran, 0.8, [0, 5, [5, 5]], 5, 100, classify=True)"
   ]
  },
  {
   "cell_type": "code",
   "execution_count": 26,
   "metadata": {},
   "outputs": [
    {
     "data": {
      "text/plain": [
       "[[0, 0.028179291174426684, 0.034885337039610845, 2.706338405609131],\n",
       " [5, 0.035267546907574707, 0.041000694927032663, 5.346082448959351],\n",
       " [[5, 5], 0.046699096594857534, 0.057956914523974987, 6.503756046295166]]"
      ]
     },
     "execution_count": 26,
     "metadata": {},
     "output_type": "execute_result"
    }
   ],
   "source": [
    "summarize(results)"
   ]
  },
  {
   "cell_type": "code",
   "execution_count": 27,
   "metadata": {},
   "outputs": [
    {
     "data": {
      "text/plain": [
       "[0, 0.028179291174426684, 0.034885337039610845, 2.706338405609131]"
      ]
     },
     "execution_count": 27,
     "metadata": {},
     "output_type": "execute_result"
    }
   ],
   "source": [
    "bestNetwork(summarize(results))"
   ]
  },
  {
   "cell_type": "markdown",
   "metadata": {},
   "source": [
    "Now do an investigation like you did for the regression data. \n",
    "\n",
    "Test at least 10 different hidden layer structures. Then train another network with your best hidden layer structure on 0.8 of the data and use the trained network on the testing data (the remaining 0.2 of the date). \n",
    "\n",
    "Plot the predicted and actual `Species` for the testing data as an integer.  Discuss what you see."
   ]
  },
  {
   "cell_type": "markdown",
   "metadata": {},
   "source": [
    "## Grading\n",
    "\n",
    "Download [A6grader.tar](http://www.cs.colostate.edu/~anderson/cs440/notebooks/A6grader.tar) and extract `A6grader.py` from it."
   ]
  },
  {
   "cell_type": "code",
   "execution_count": 15,
   "metadata": {
    "scrolled": true
   },
   "outputs": [
    {
     "name": "stdout",
     "output_type": "stream",
     "text": [
      "\n",
      "Testing summarize([[[1,1], [1.2, 1.3, 1.4], [2.2, 2.3, 2.4], 0.5], [[2,2,2], [4.4, 4.3, 4.2], [6.5, 6.4, 6.3], 0.6]])\n",
      "\n",
      "--- 10/10 points. Correctly returned [[[1, 1], 1.3, 2.3000000000000003, 0.5], [[2, 2, 2], 4.3, 6.3999999999999995, 0.6]]\n",
      "\n",
      "Testing bestNetwork([[[1, 1], 1.3, 2.3, 0.5], [[2, 2, 2], 4.3, 1.3, 0.6]])\n",
      "\n",
      "--- 10/10 points. Correctly returned [[2, 2, 2], 4.3, 1.3, 0.6]\n",
      "\n",
      "X = np.random.uniform(-1, 1, (100, 3))\n",
      "T = np.hstack(((X**2 - 0.2*X**3).sum(axis=1,keepdims=True),\n",
      "               (np.sin(X)).sum(axis=1,keepdims=True)))\n",
      "result = trainNNs(X, T, 0.7, [0, 5, 10, [20, 20]], 10, 100, False)\n",
      "\n",
      "--- 20/20 points. Correct.\n",
      "\n",
      "Testing bestNetwork(summarize(result))\n",
      "\n",
      "--- 20/20 points. You correctly found that network [20, 20] is best.\n",
      "\n",
      "C:\\Users\\Vignesh\\Documents\\Colorado State University\\Courses\\CS440 - Introduction to Artificial Intelligence - Chuck Anderson\\Assignments Execution Grade is 60/60\n",
      "\n",
      "======================= The regression data set =======================\n",
      "\n",
      "--- _/5 points. Read the data in energydata_complete.csv into variables Xenergy and Tenergy.\n",
      "\n",
      "--- _/5 points. Train some networks by calling the NeuralNetwork constructor and train method and plot the error trace to help you decide now many iterations might be needed.\n",
      "\n",
      "--- _/5 points. Try at least 10 different hidden layer structures using trainNNs.\n",
      "\n",
      "--- _/5 points. Train another network with your best hidden layer structure on 0.8 of the data and test it on remaining 0.2 of the data. Plot the predicted and actual Appliances energy use, and the predicted and actual lights energy use, in two separate plots. Discuss what you see.\n",
      "\n",
      "======================= Classification data set =======================\n",
      "\n",
      "--- _/5 points. Read the data in Frogs_MFCCs.csv into variables Xanuran and Tanuran.\n",
      "\n",
      "--- _/5 points. Train some networks by calling the NeuralNetwork constructor and train method and plot the error trace to help you decide now many iterations might be needed.\n",
      "\n",
      "--- _/5 points. Try at least 10 different hidden layer structures using trainNNs.\n",
      "\n",
      "--- _/5 points. Train another network with your best hidden layer structure on 0.8 of the data and test it on remaining 0.2 of the data. Plot the predicted and actual Appliances energy use, and the predicted and actual lights energy use, in two separate plots. Discuss what you see.\n",
      "\n",
      "C:\\Users\\Vignesh\\Documents\\Colorado State University\\Courses\\CS440 - Introduction to Artificial Intelligence - Chuck Anderson\\Assignments Notebook Grade is __/40\n",
      "\n",
      "C:\\Users\\Vignesh\\Documents\\Colorado State University\\Courses\\CS440 - Introduction to Artificial Intelligence - Chuck Anderson\\Assignments FINAL GRADE is __/100\n"
     ]
    },
    {
     "data": {
      "text/plain": [
       "<matplotlib.figure.Figure at 0x6aec7f0>"
      ]
     },
     "metadata": {},
     "output_type": "display_data"
    }
   ],
   "source": [
    "%run -i \"A6grader.py\""
   ]
  },
  {
   "cell_type": "markdown",
   "metadata": {},
   "source": [
    "## Check-in"
   ]
  },
  {
   "cell_type": "markdown",
   "metadata": {},
   "source": [
    "Do not include this section in your notebook.\n",
    "\n",
    "Name your notebook ```Lastname-A6.ipynb```.  So, for me it would be ```Anderson-A3.ipynb```.  Submit the file using the ```Assignment 3``` link on [Canvas](https://colostate.instructure.com/courses/41327)."
   ]
  },
  {
   "cell_type": "markdown",
   "metadata": {},
   "source": [
    "## Extra Credit\n",
    "\n",
    "  2. Repeat the above regression and classification experiments with a second regression data set and a second classification data set.\n",
    "  \n",
    "  2. Since you are collecting the performance of all repetitions for each network structure, you can calculate a confidence interval about the mean, to help judge significant differences. Do this for either the regression or the classification data and plot the mean test performance with confidence intervals for each network structure tested.  Discuss the statistical significance of the differences among the means.  One website I found to help with this is the site [Correct way to obtain confidence interval with scipy](https://stackoverflow.com/questions/28242593/correct-way-to-obtain-confidence-interval-with-scipy).\n",
    "  \n"
   ]
  }
 ],
 "metadata": {
  "anaconda-cloud": {},
  "kernelspec": {
   "display_name": "Python 3",
   "language": "python",
   "name": "python3"
  },
  "language_info": {
   "codemirror_mode": {
    "name": "ipython",
    "version": 3
   },
   "file_extension": ".py",
   "mimetype": "text/x-python",
   "name": "python",
   "nbconvert_exporter": "python",
   "pygments_lexer": "ipython3",
   "version": "3.6.0"
  },
  "toc": {
   "nav_menu": {},
   "number_sections": true,
   "sideBar": true,
   "skip_h1_title": false,
   "toc_cell": false,
   "toc_position": {},
   "toc_section_display": "block",
   "toc_window_display": false
  }
 },
 "nbformat": 4,
 "nbformat_minor": 1
}
